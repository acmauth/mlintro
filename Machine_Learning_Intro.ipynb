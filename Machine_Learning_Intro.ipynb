{
  "nbformat": 4,
  "nbformat_minor": 0,
  "metadata": {
    "colab": {
      "name": "Machine Learning Intro",
      "version": "0.3.2",
      "provenance": [],
      "toc_visible": true
    },
    "kernelspec": {
      "name": "python3",
      "display_name": "Python 3"
    }
  },
  "cells": [
    {
      "metadata": {
        "id": "lIXRLt3iB9Hn",
        "colab_type": "text"
      },
      "cell_type": "markdown",
      "source": [
        "# Machine Learning Intro #\n",
        "\n",
        "Let's go through an Regression problem. The main steps we are going to take is: \n",
        "\n",
        "1. Load the data\n",
        "2. Discover and visualize the data to gain insights\n",
        "3. Prepare data for machine learning algorithms\n",
        "4. Select an algorithm and train a model\n",
        "5. Validate our model\n",
        "\n",
        "The dataset we are going to use is the [California Housing Dataset](https://github.com/ageron/handson-ml/tree/master/datasets/housing) which contains data drawn from the 1990 U.S. Census. \n",
        "\n",
        "The first task you are asked to perform is to build a model of housing prices in California using the California census data. This data has metrics such as the **population**, **median income**, **median housing\n",
        "price**, and so on for each block group in California. Block groups are the smallest geographical unit for which the US Census Bureau publishes sample data (a block group typically has a population of 600 to 3,000 people). We will just call them “districts” for short.\n",
        "\n",
        "\n",
        "Your model should learn from this data and be able to **predict the median housing price in any district, given all the other metrics**."
      ]
    },
    {
      "metadata": {
        "id": "tQovSONHCHqX",
        "colab_type": "text"
      },
      "cell_type": "markdown",
      "source": [
        "## Create the workspace ##\n",
        "\n",
        "If you are working *offline* you can create a conda environment now with `conda create -name linear` and install the libraries needed with `pip install matplotlib numpy pandas scipy scikit-learn`"
      ]
    },
    {
      "metadata": {
        "id": "0iudJYF5B1Nd",
        "colab_type": "code",
        "colab": {}
      },
      "cell_type": "code",
      "source": [
        "#Several imports that will be needed - Check them before starting\n",
        "import numpy as np\n",
        "import pandas as pd\n",
        "import scipy\n",
        "import sklearn\n",
        "import os"
      ],
      "execution_count": 0,
      "outputs": []
    },
    {
      "metadata": {
        "id": "3e9hmwdACTqS",
        "colab_type": "text"
      },
      "cell_type": "markdown",
      "source": [
        "## Data Loading ##\n",
        "\n",
        "We are loading the data using pandas. Write a small function for this, we are gonna need it later. We take a quick look into the data using pandas."
      ]
    },
    {
      "metadata": {
        "id": "rhmoliyVCRES",
        "colab_type": "code",
        "outputId": "254c1aba-b399-4072-9d94-4c108c4e5fc0",
        "colab": {
          "base_uri": "https://localhost:8080/",
          "height": 206
        }
      },
      "cell_type": "code",
      "source": [
        "DATASET_PATH = \"housing.csv\"\n",
        "\n",
        "def load_data_csv(csv_path=DATASET_PATH):\n",
        "  return pd.read_csv(csv_path)\n",
        "\n",
        "housing = load_data_csv()\n",
        "housing.head() # Top 5 rows "
      ],
      "execution_count": 2,
      "outputs": [
        {
          "output_type": "execute_result",
          "data": {
            "text/html": [
              "<div>\n",
              "<style scoped>\n",
              "    .dataframe tbody tr th:only-of-type {\n",
              "        vertical-align: middle;\n",
              "    }\n",
              "\n",
              "    .dataframe tbody tr th {\n",
              "        vertical-align: top;\n",
              "    }\n",
              "\n",
              "    .dataframe thead th {\n",
              "        text-align: right;\n",
              "    }\n",
              "</style>\n",
              "<table border=\"1\" class=\"dataframe\">\n",
              "  <thead>\n",
              "    <tr style=\"text-align: right;\">\n",
              "      <th></th>\n",
              "      <th>longitude</th>\n",
              "      <th>latitude</th>\n",
              "      <th>housing_median_age</th>\n",
              "      <th>total_rooms</th>\n",
              "      <th>total_bedrooms</th>\n",
              "      <th>population</th>\n",
              "      <th>households</th>\n",
              "      <th>median_income</th>\n",
              "      <th>median_house_value</th>\n",
              "      <th>ocean_proximity</th>\n",
              "    </tr>\n",
              "  </thead>\n",
              "  <tbody>\n",
              "    <tr>\n",
              "      <th>0</th>\n",
              "      <td>-122.23</td>\n",
              "      <td>37.88</td>\n",
              "      <td>41.0</td>\n",
              "      <td>880.0</td>\n",
              "      <td>129.0</td>\n",
              "      <td>322.0</td>\n",
              "      <td>126.0</td>\n",
              "      <td>8.3252</td>\n",
              "      <td>452600.0</td>\n",
              "      <td>NEAR BAY</td>\n",
              "    </tr>\n",
              "    <tr>\n",
              "      <th>1</th>\n",
              "      <td>-122.22</td>\n",
              "      <td>37.86</td>\n",
              "      <td>21.0</td>\n",
              "      <td>7099.0</td>\n",
              "      <td>1106.0</td>\n",
              "      <td>2401.0</td>\n",
              "      <td>1138.0</td>\n",
              "      <td>8.3014</td>\n",
              "      <td>358500.0</td>\n",
              "      <td>NEAR BAY</td>\n",
              "    </tr>\n",
              "    <tr>\n",
              "      <th>2</th>\n",
              "      <td>-122.24</td>\n",
              "      <td>37.85</td>\n",
              "      <td>52.0</td>\n",
              "      <td>1467.0</td>\n",
              "      <td>190.0</td>\n",
              "      <td>496.0</td>\n",
              "      <td>177.0</td>\n",
              "      <td>7.2574</td>\n",
              "      <td>352100.0</td>\n",
              "      <td>NEAR BAY</td>\n",
              "    </tr>\n",
              "    <tr>\n",
              "      <th>3</th>\n",
              "      <td>-122.25</td>\n",
              "      <td>37.85</td>\n",
              "      <td>52.0</td>\n",
              "      <td>1274.0</td>\n",
              "      <td>235.0</td>\n",
              "      <td>558.0</td>\n",
              "      <td>219.0</td>\n",
              "      <td>5.6431</td>\n",
              "      <td>341300.0</td>\n",
              "      <td>NEAR BAY</td>\n",
              "    </tr>\n",
              "    <tr>\n",
              "      <th>4</th>\n",
              "      <td>-122.25</td>\n",
              "      <td>37.85</td>\n",
              "      <td>52.0</td>\n",
              "      <td>1627.0</td>\n",
              "      <td>280.0</td>\n",
              "      <td>565.0</td>\n",
              "      <td>259.0</td>\n",
              "      <td>3.8462</td>\n",
              "      <td>342200.0</td>\n",
              "      <td>NEAR BAY</td>\n",
              "    </tr>\n",
              "  </tbody>\n",
              "</table>\n",
              "</div>"
            ],
            "text/plain": [
              "   longitude  latitude  housing_median_age  total_rooms  total_bedrooms  \\\n",
              "0    -122.23     37.88                41.0        880.0           129.0   \n",
              "1    -122.22     37.86                21.0       7099.0          1106.0   \n",
              "2    -122.24     37.85                52.0       1467.0           190.0   \n",
              "3    -122.25     37.85                52.0       1274.0           235.0   \n",
              "4    -122.25     37.85                52.0       1627.0           280.0   \n",
              "\n",
              "   population  households  median_income  median_house_value ocean_proximity  \n",
              "0       322.0       126.0         8.3252            452600.0        NEAR BAY  \n",
              "1      2401.0      1138.0         8.3014            358500.0        NEAR BAY  \n",
              "2       496.0       177.0         7.2574            352100.0        NEAR BAY  \n",
              "3       558.0       219.0         5.6431            341300.0        NEAR BAY  \n",
              "4       565.0       259.0         3.8462            342200.0        NEAR BAY  "
            ]
          },
          "metadata": {
            "tags": []
          },
          "execution_count": 2
        }
      ]
    },
    {
      "metadata": {
        "id": "sXjmSegnCuW6",
        "colab_type": "text"
      },
      "cell_type": "markdown",
      "source": [
        "## Data discovery ##"
      ]
    },
    {
      "metadata": {
        "id": "Q9M7D25QCx6A",
        "colab_type": "code",
        "outputId": "06f06c39-b8d7-44b1-e37b-342b25417b30",
        "colab": {
          "base_uri": "https://localhost:8080/",
          "height": 285
        }
      },
      "cell_type": "code",
      "source": [
        "housing.info() # Quick description of the data (types, columns, entries etc)"
      ],
      "execution_count": 3,
      "outputs": [
        {
          "output_type": "stream",
          "text": [
            "<class 'pandas.core.frame.DataFrame'>\n",
            "RangeIndex: 20640 entries, 0 to 20639\n",
            "Data columns (total 10 columns):\n",
            "longitude             20640 non-null float64\n",
            "latitude              20640 non-null float64\n",
            "housing_median_age    20640 non-null float64\n",
            "total_rooms           20640 non-null float64\n",
            "total_bedrooms        20433 non-null float64\n",
            "population            20640 non-null float64\n",
            "households            20640 non-null float64\n",
            "median_income         20640 non-null float64\n",
            "median_house_value    20640 non-null float64\n",
            "ocean_proximity       20640 non-null object\n",
            "dtypes: float64(9), object(1)\n",
            "memory usage: 1.6+ MB\n"
          ],
          "name": "stdout"
        }
      ]
    },
    {
      "metadata": {
        "id": "7shvn9w7C1oV",
        "colab_type": "text"
      },
      "cell_type": "markdown",
      "source": [
        "There are 20,640 instances in the dataset. Notice that the total_bed\n",
        "rooms attribute has only 20,433 non-null values, meaning that 207 districts are missing this feature. We will need to take care of this later. \n",
        "\n",
        "Also, all attributes are number except the oceant_proximity field. It is type object, since we loaded from csv, it is a text field. Take a look back at the top5 rows."
      ]
    },
    {
      "metadata": {
        "id": "cyIjFmCYC7Bk",
        "colab_type": "code",
        "outputId": "2cbd49d0-eb10-401e-dea9-e3eb1d744cb5",
        "colab": {
          "base_uri": "https://localhost:8080/",
          "height": 124
        }
      },
      "cell_type": "code",
      "source": [
        "# Let's find all about this field\n",
        "housing[\"ocean_proximity\"].value_counts()"
      ],
      "execution_count": 4,
      "outputs": [
        {
          "output_type": "execute_result",
          "data": {
            "text/plain": [
              "<1H OCEAN     9136\n",
              "INLAND        6551\n",
              "NEAR OCEAN    2658\n",
              "NEAR BAY      2290\n",
              "ISLAND           5\n",
              "Name: ocean_proximity, dtype: int64"
            ]
          },
          "metadata": {
            "tags": []
          },
          "execution_count": 4
        }
      ]
    },
    {
      "metadata": {
        "id": "fDRTV6bxC9Tn",
        "colab_type": "code",
        "outputId": "324b0e49-e64b-4a22-d925-f11cfca2d11a",
        "colab": {
          "base_uri": "https://localhost:8080/",
          "height": 300
        }
      },
      "cell_type": "code",
      "source": [
        "# Some further information about all the fields\n",
        "housing.describe()\n",
        "\n",
        "# STD = Standard Deviation, 25% = 25th percentile, 50% = median , 75% = 75th percentile"
      ],
      "execution_count": 5,
      "outputs": [
        {
          "output_type": "execute_result",
          "data": {
            "text/html": [
              "<div>\n",
              "<style scoped>\n",
              "    .dataframe tbody tr th:only-of-type {\n",
              "        vertical-align: middle;\n",
              "    }\n",
              "\n",
              "    .dataframe tbody tr th {\n",
              "        vertical-align: top;\n",
              "    }\n",
              "\n",
              "    .dataframe thead th {\n",
              "        text-align: right;\n",
              "    }\n",
              "</style>\n",
              "<table border=\"1\" class=\"dataframe\">\n",
              "  <thead>\n",
              "    <tr style=\"text-align: right;\">\n",
              "      <th></th>\n",
              "      <th>longitude</th>\n",
              "      <th>latitude</th>\n",
              "      <th>housing_median_age</th>\n",
              "      <th>total_rooms</th>\n",
              "      <th>total_bedrooms</th>\n",
              "      <th>population</th>\n",
              "      <th>households</th>\n",
              "      <th>median_income</th>\n",
              "      <th>median_house_value</th>\n",
              "    </tr>\n",
              "  </thead>\n",
              "  <tbody>\n",
              "    <tr>\n",
              "      <th>count</th>\n",
              "      <td>20640.000000</td>\n",
              "      <td>20640.000000</td>\n",
              "      <td>20640.000000</td>\n",
              "      <td>20640.000000</td>\n",
              "      <td>20433.000000</td>\n",
              "      <td>20640.000000</td>\n",
              "      <td>20640.000000</td>\n",
              "      <td>20640.000000</td>\n",
              "      <td>20640.000000</td>\n",
              "    </tr>\n",
              "    <tr>\n",
              "      <th>mean</th>\n",
              "      <td>-119.569704</td>\n",
              "      <td>35.631861</td>\n",
              "      <td>28.639486</td>\n",
              "      <td>2635.763081</td>\n",
              "      <td>537.870553</td>\n",
              "      <td>1425.476744</td>\n",
              "      <td>499.539680</td>\n",
              "      <td>3.870671</td>\n",
              "      <td>206855.816909</td>\n",
              "    </tr>\n",
              "    <tr>\n",
              "      <th>std</th>\n",
              "      <td>2.003532</td>\n",
              "      <td>2.135952</td>\n",
              "      <td>12.585558</td>\n",
              "      <td>2181.615252</td>\n",
              "      <td>421.385070</td>\n",
              "      <td>1132.462122</td>\n",
              "      <td>382.329753</td>\n",
              "      <td>1.899822</td>\n",
              "      <td>115395.615874</td>\n",
              "    </tr>\n",
              "    <tr>\n",
              "      <th>min</th>\n",
              "      <td>-124.350000</td>\n",
              "      <td>32.540000</td>\n",
              "      <td>1.000000</td>\n",
              "      <td>2.000000</td>\n",
              "      <td>1.000000</td>\n",
              "      <td>3.000000</td>\n",
              "      <td>1.000000</td>\n",
              "      <td>0.499900</td>\n",
              "      <td>14999.000000</td>\n",
              "    </tr>\n",
              "    <tr>\n",
              "      <th>25%</th>\n",
              "      <td>-121.800000</td>\n",
              "      <td>33.930000</td>\n",
              "      <td>18.000000</td>\n",
              "      <td>1447.750000</td>\n",
              "      <td>296.000000</td>\n",
              "      <td>787.000000</td>\n",
              "      <td>280.000000</td>\n",
              "      <td>2.563400</td>\n",
              "      <td>119600.000000</td>\n",
              "    </tr>\n",
              "    <tr>\n",
              "      <th>50%</th>\n",
              "      <td>-118.490000</td>\n",
              "      <td>34.260000</td>\n",
              "      <td>29.000000</td>\n",
              "      <td>2127.000000</td>\n",
              "      <td>435.000000</td>\n",
              "      <td>1166.000000</td>\n",
              "      <td>409.000000</td>\n",
              "      <td>3.534800</td>\n",
              "      <td>179700.000000</td>\n",
              "    </tr>\n",
              "    <tr>\n",
              "      <th>75%</th>\n",
              "      <td>-118.010000</td>\n",
              "      <td>37.710000</td>\n",
              "      <td>37.000000</td>\n",
              "      <td>3148.000000</td>\n",
              "      <td>647.000000</td>\n",
              "      <td>1725.000000</td>\n",
              "      <td>605.000000</td>\n",
              "      <td>4.743250</td>\n",
              "      <td>264725.000000</td>\n",
              "    </tr>\n",
              "    <tr>\n",
              "      <th>max</th>\n",
              "      <td>-114.310000</td>\n",
              "      <td>41.950000</td>\n",
              "      <td>52.000000</td>\n",
              "      <td>39320.000000</td>\n",
              "      <td>6445.000000</td>\n",
              "      <td>35682.000000</td>\n",
              "      <td>6082.000000</td>\n",
              "      <td>15.000100</td>\n",
              "      <td>500001.000000</td>\n",
              "    </tr>\n",
              "  </tbody>\n",
              "</table>\n",
              "</div>"
            ],
            "text/plain": [
              "          longitude      latitude  housing_median_age   total_rooms  \\\n",
              "count  20640.000000  20640.000000        20640.000000  20640.000000   \n",
              "mean    -119.569704     35.631861           28.639486   2635.763081   \n",
              "std        2.003532      2.135952           12.585558   2181.615252   \n",
              "min     -124.350000     32.540000            1.000000      2.000000   \n",
              "25%     -121.800000     33.930000           18.000000   1447.750000   \n",
              "50%     -118.490000     34.260000           29.000000   2127.000000   \n",
              "75%     -118.010000     37.710000           37.000000   3148.000000   \n",
              "max     -114.310000     41.950000           52.000000  39320.000000   \n",
              "\n",
              "       total_bedrooms    population    households  median_income  \\\n",
              "count    20433.000000  20640.000000  20640.000000   20640.000000   \n",
              "mean       537.870553   1425.476744    499.539680       3.870671   \n",
              "std        421.385070   1132.462122    382.329753       1.899822   \n",
              "min          1.000000      3.000000      1.000000       0.499900   \n",
              "25%        296.000000    787.000000    280.000000       2.563400   \n",
              "50%        435.000000   1166.000000    409.000000       3.534800   \n",
              "75%        647.000000   1725.000000    605.000000       4.743250   \n",
              "max       6445.000000  35682.000000   6082.000000      15.000100   \n",
              "\n",
              "       median_house_value  \n",
              "count        20640.000000  \n",
              "mean        206855.816909  \n",
              "std         115395.615874  \n",
              "min          14999.000000  \n",
              "25%         119600.000000  \n",
              "50%         179700.000000  \n",
              "75%         264725.000000  \n",
              "max         500001.000000  "
            ]
          },
          "metadata": {
            "tags": []
          },
          "execution_count": 5
        }
      ]
    },
    {
      "metadata": {
        "id": "QxDB7JdHDDK7",
        "colab_type": "text"
      },
      "cell_type": "markdown",
      "source": [
        "## Data visualization ##\n",
        "\n",
        "### General visualization ###\n",
        "\n",
        "Plotting histograms for each numerical value also helps us understand the data. A histogram shows the number of instances\n",
        "(on the vertical axis) that have a given value range (on the horizontal axis)."
      ]
    },
    {
      "metadata": {
        "id": "leBbHwyQDFxd",
        "colab_type": "code",
        "outputId": "bba9d689-6f4d-417c-d6cc-60a5dfd2caf0",
        "colab": {
          "base_uri": "https://localhost:8080/",
          "height": 879
        }
      },
      "cell_type": "code",
      "source": [
        "import matplotlib.pyplot as plt # Necessary import\n",
        "housing.hist(bins=50, figsize=(20,15)) #Using like this plots for each \n",
        "#nummerical value, we choose the number of bins - the number of segments -.\n",
        "plt.show()"
      ],
      "execution_count": 6,
      "outputs": [
        {
          "output_type": "display_data",
          "data": {
            "image/png": "[encoded data removed]",
            "text/plain": [
              "<Figure size 1440x1080 with 9 Axes>"
            ]
          },
          "metadata": {
            "tags": []
          }
        }
      ]
    },
    {
      "metadata": {
        "id": "RYoaQPUZDN8p",
        "colab_type": "text"
      },
      "cell_type": "markdown",
      "source": [
        "We notice:\n",
        " * Some have been capped (median income at 15, median house age, median house value)\n",
        " * Different scales\n",
        " * Tail heavy histograms (they extend much farther to the right of the median than to the left)"
      ]
    },
    {
      "metadata": {
        "id": "Crl_B1hoDQ3r",
        "colab_type": "text"
      },
      "cell_type": "markdown",
      "source": [
        "## Visualizing Geographical Data ##\n",
        "\n",
        "Since there is geographical information (latitude and longitude), it is a good idea to\n",
        "create a scatterplot of all districts to visualize the data. \n",
        "\n",
        "Here is California in the map to help us understand our data better.\n",
        "\n",
        "<img src=\"http://www.orangesmile.com/common/img_city_maps/california-state-map-3.jpg \" alt=\"california\" width=\"400\"/>"
      ]
    },
    {
      "metadata": {
        "id": "bOzOOdp_DUqj",
        "colab_type": "code",
        "outputId": "d250b0f0-efa8-4c2a-c513-19b0b48203c1",
        "colab": {
          "base_uri": "https://localhost:8080/",
          "height": 301
        }
      },
      "cell_type": "code",
      "source": [
        "housing.plot(kind=\"scatter\", x=\"longitude\", y=\"latitude\") # Scatter with longitute in the x axis and the latitude in th y axis. "
      ],
      "execution_count": 7,
      "outputs": [
        {
          "output_type": "execute_result",
          "data": {
            "text/plain": [
              "<matplotlib.axes._subplots.AxesSubplot at 0x7f94a5aa04a8>"
            ]
          },
          "metadata": {
            "tags": []
          },
          "execution_count": 7
        },
        {
          "output_type": "display_data",
          "data": {
            "image/png": "[encoded data removed]",
            "text/plain": [
              "<Figure size 432x288 with 1 Axes>"
            ]
          },
          "metadata": {
            "tags": []
          }
        }
      ]
    },
    {
      "metadata": {
        "id": "QJPl-ASBDXXX",
        "colab_type": "text"
      },
      "cell_type": "markdown",
      "source": [
        "This looks like California all right, but other than that it is hard to see any particular pattern. Setting the alpha option to 0.1 makes it much easier to visualize the places where there is a high density of data points."
      ]
    },
    {
      "metadata": {
        "id": "MsoRQNp3DZt2",
        "colab_type": "code",
        "outputId": "ece4b165-5cda-44a8-9bab-2f404f342682",
        "colab": {
          "base_uri": "https://localhost:8080/",
          "height": 301
        }
      },
      "cell_type": "code",
      "source": [
        "housing.plot(kind=\"scatter\", x=\"longitude\", y=\"latitude\", alpha=0.1) # Scatter with longitute in the x axis and the latitude in th y axis. "
      ],
      "execution_count": 8,
      "outputs": [
        {
          "output_type": "execute_result",
          "data": {
            "text/plain": [
              "<matplotlib.axes._subplots.AxesSubplot at 0x7f94a2a810b8>"
            ]
          },
          "metadata": {
            "tags": []
          },
          "execution_count": 8
        },
        {
          "output_type": "display_data",
          "data": {
            "image/png": "[encoded data removed]",
            "text/plain": [
              "<Figure size 432x288 with 1 Axes>"
            ]
          },
          "metadata": {
            "tags": []
          }
        }
      ]
    },
    {
      "metadata": {
        "id": "uaqil19sDbuG",
        "colab_type": "text"
      },
      "cell_type": "markdown",
      "source": [
        "We can now see the high density areas (around the main cities of california).\n",
        "\n",
        "More generally, our brains are very good at spotting patterns on pictures, but you may need to play around with visualization parameters to make the patterns stand out.\n",
        "\n",
        "Let's include the housing prices. The radius of each circle represents the district’s population (option s), and the color represents the price (option c). We will use a predefined color map (option cmap) called jet, which ranges from blue (low values) to red (high prices).\n"
      ]
    },
    {
      "metadata": {
        "id": "cXcQEgXVDeS4",
        "colab_type": "code",
        "outputId": "b59f997f-93fd-4f18-ed5d-f81e2b0ae59b",
        "colab": {
          "base_uri": "https://localhost:8080/",
          "height": 274
        }
      },
      "cell_type": "code",
      "source": [
        "housing.plot(kind=\"scatter\", x=\"longitude\", y=\"latitude\", alpha=0.4,\n",
        "s=housing[\"population\"]/100, label=\"population\",\n",
        "c=\"median_house_value\", cmap=plt.get_cmap(\"jet\"), colorbar=True,\n",
        ")\n",
        "plt.legend()"
      ],
      "execution_count": 9,
      "outputs": [
        {
          "output_type": "execute_result",
          "data": {
            "text/plain": [
              "<matplotlib.legend.Legend at 0x7f94a2b43e80>"
            ]
          },
          "metadata": {
            "tags": []
          },
          "execution_count": 9
        },
        {
          "output_type": "display_data",
          "data": {
            "image/png": "[encoded data removed]",
            "text/plain": [
              "<Figure size 432x288 with 2 Axes>"
            ]
          },
          "metadata": {
            "tags": []
          }
        }
      ]
    },
    {
      "metadata": {
        "id": "1lmRaUCmDqLw",
        "colab_type": "text"
      },
      "cell_type": "markdown",
      "source": [
        "# Prepare the data for Machine Learning Algorithms #\n",
        "\n",
        "Instead of just doing this manually, you should write functions to do that, for several good reasons:\n",
        " \n",
        " * Reproduce the transformations on any dataset\n",
        " * Build a library of transformations functions\n",
        " * Easily try various transformations\n",
        " \n",
        " Let's work with our training set and separate the features (input values) from the labels (output values - median house value)"
      ]
    },
    {
      "metadata": {
        "id": "X7B4eZyZDtEQ",
        "colab_type": "code",
        "colab": {}
      },
      "cell_type": "code",
      "source": [
        "\n",
        "x = housing.drop(\"median_house_value\", axis=1) # Creates a copy without the specified column\n",
        "y = housing[\"median_house_value\"].copy() # Copies the column to the specified variable"
      ],
      "execution_count": 0,
      "outputs": []
    },
    {
      "metadata": {
        "id": "MCKiUiweFj3A",
        "colab_type": "text"
      },
      "cell_type": "markdown",
      "source": [
        "## Data Cleaning ##\n",
        "\n",
        "Most Machine Learning algorithms cannot work with missing features, so let’s create a few functions to take care of them. You noticed earlier that the total_bedrooms attribute has some missing values, so let’s fix this. You have three options:\n",
        "\n",
        "1. Get rid of the corresponding districts.\n",
        "2. Get rid of the whole attribute.\n",
        "3. Set the values to some value (zero, the mean, the median, etc.).\n",
        "\n",
        "In cases where you have more columns with missing values you can easily use the [Simple Imputer](https://scikit-learn.org/stable/modules/generated/sklearn.impute.SimpleImputer.html#sklearn.impute.SimpleImputer) from the scikit learn library. \n"
      ]
    },
    {
      "metadata": {
        "id": "RmSTvA6DFnfv",
        "colab_type": "code",
        "outputId": "98aed207-5c7d-4a45-f2fd-332ed7418aec",
        "colab": {
          "base_uri": "https://localhost:8080/",
          "height": 1125
        }
      },
      "cell_type": "code",
      "source": [
        "#housing.dropna(subset=[\"total_bedrooms\"]) # option 1\n",
        "# housing.drop(\"total_bedrooms\", axis=1) # option 2\n",
        "median = x[\"total_bedrooms\"].median() # Get the median of this column\n",
        "x[\"total_bedrooms\"].fillna(median) # option 3"
      ],
      "execution_count": 11,
      "outputs": [
        {
          "output_type": "execute_result",
          "data": {
            "text/plain": [
              "0         129.0\n",
              "1        1106.0\n",
              "2         190.0\n",
              "3         235.0\n",
              "4         280.0\n",
              "5         213.0\n",
              "6         489.0\n",
              "7         687.0\n",
              "8         665.0\n",
              "9         707.0\n",
              "10        434.0\n",
              "11        752.0\n",
              "12        474.0\n",
              "13        191.0\n",
              "14        626.0\n",
              "15        283.0\n",
              "16        347.0\n",
              "17        293.0\n",
              "18        455.0\n",
              "19        298.0\n",
              "20        184.0\n",
              "21        367.0\n",
              "22        541.0\n",
              "23        337.0\n",
              "24        437.0\n",
              "25        123.0\n",
              "26        244.0\n",
              "27        421.0\n",
              "28        492.0\n",
              "29        160.0\n",
              "          ...  \n",
              "20610     484.0\n",
              "20611     441.0\n",
              "20612     289.0\n",
              "20613     365.0\n",
              "20614     460.0\n",
              "20615     216.0\n",
              "20616     441.0\n",
              "20617     109.0\n",
              "20618     247.0\n",
              "20619     340.0\n",
              "20620      41.0\n",
              "20621     247.0\n",
              "20622     147.0\n",
              "20623     244.0\n",
              "20624     300.0\n",
              "20625      17.0\n",
              "20626     184.0\n",
              "20627      65.0\n",
              "20628     421.0\n",
              "20629    1856.0\n",
              "20630     505.0\n",
              "20631     493.0\n",
              "20632     416.0\n",
              "20633     412.0\n",
              "20634     395.0\n",
              "20635     374.0\n",
              "20636     150.0\n",
              "20637     485.0\n",
              "20638     409.0\n",
              "20639     616.0\n",
              "Name: total_bedrooms, Length: 20640, dtype: float64"
            ]
          },
          "metadata": {
            "tags": []
          },
          "execution_count": 11
        }
      ]
    },
    {
      "metadata": {
        "id": "JI7nwYF_FrwX",
        "colab_type": "text"
      },
      "cell_type": "markdown",
      "source": [
        "## Handling Text and Categorical Attributes ##\n",
        "\n",
        "The ocean_proximity fields is a text attribute. Most machine learning algorithms prefer to work with numbers, so is it better to convert these text labels to numbers."
      ]
    },
    {
      "metadata": {
        "id": "cj2r01QdFuuf",
        "colab_type": "code",
        "outputId": "247abcd7-c4cd-48da-b49b-6369b165192b",
        "colab": {
          "base_uri": "https://localhost:8080/",
          "height": 53
        }
      },
      "cell_type": "code",
      "source": [
        "from sklearn.preprocessing import LabelEncoder\n",
        "encoder = LabelEncoder()\n",
        "housing_cat = x[\"ocean_proximity\"]\n",
        "housing_cat_encoded = encoder.fit_transform(housing_cat)\n",
        "print(housing_cat_encoded)\n",
        "print(encoder.classes_)\n"
      ],
      "execution_count": 12,
      "outputs": [
        {
          "output_type": "stream",
          "text": [
            "[3 3 3 ... 1 1 1]\n",
            "['<1H OCEAN' 'INLAND' 'ISLAND' 'NEAR BAY' 'NEAR OCEAN']\n"
          ],
          "name": "stdout"
        }
      ]
    },
    {
      "metadata": {
        "id": "HqhXpS80FxNd",
        "colab_type": "text"
      },
      "cell_type": "markdown",
      "source": [
        "Each category is mapped to a value ex. <1H OCEAN is mapped  to 0, INLDAND is mapped to 1 etc.\n",
        "\n",
        "One issue with this representation is that ML algorithms will assume that two nearby values are more similar than two distant values. Obviously this is not the case (for example, categories 0 and 4 are more similar than categories 0 and 1).\n",
        "\n",
        "To fix this we create one binary category for each attribute. One attribute is equal to 1 when the category matched the ocean proximity of the district and 0 to all other attributes.\n",
        "\n",
        "\n",
        "Scikit-Learn provides a [OneHotEncoder](https://scikit-learn.org/stable/modules/generated/sklearn.preprocessing.OneHotEncoder.html) encoder to convert integer categorical values into one-hot vectors. Let’s encode the categories as one-hot vectors. Note that fit_transform() expects a 2D array, but housing_cat_encoded is a 1D array, so we need to reshape it."
      ]
    },
    {
      "metadata": {
        "id": "AEVnYzMWF0b0",
        "colab_type": "code",
        "outputId": "a69a2ef7-ce9e-4503-b393-729f5d5a77f2",
        "colab": {
          "base_uri": "https://localhost:8080/",
          "height": 144
        }
      },
      "cell_type": "code",
      "source": [
        "from sklearn.preprocessing import OneHotEncoder\n",
        "encoder = OneHotEncoder()\n",
        "housing_cat_1hot = encoder.fit_transform(housing_cat_encoded.reshape(-1,1))\n",
        "housing_cat_1hot"
      ],
      "execution_count": 13,
      "outputs": [
        {
          "output_type": "stream",
          "text": [
            "/usr/local/lib/python3.6/dist-packages/sklearn/preprocessing/_encoders.py:371: FutureWarning: The handling of integer data will change in version 0.22. Currently, the categories are determined based on the range [0, max(values)], while in the future they will be determined based on the unique values.\n",
            "If you want the future behaviour and silence this warning, you can specify \"categories='auto'\".\n",
            "In case you used a LabelEncoder before this OneHotEncoder to convert the categories to integers, then you can now use the OneHotEncoder directly.\n",
            "  warnings.warn(msg, FutureWarning)\n"
          ],
          "name": "stderr"
        },
        {
          "output_type": "execute_result",
          "data": {
            "text/plain": [
              "<20640x5 sparse matrix of type '<class 'numpy.float64'>'\n",
              "\twith 20640 stored elements in Compressed Sparse Row format>"
            ]
          },
          "metadata": {
            "tags": []
          },
          "execution_count": 13
        }
      ]
    },
    {
      "metadata": {
        "id": "gumEUtX8F3hO",
        "colab_type": "text"
      },
      "cell_type": "markdown",
      "source": [
        "Notice that the output is a SciPy sparse matrix, instead of a NumPy array. This is very useful when you have categorical attributes with thousands of categories. After one-hot encoding we get a matrix with thousands of columns, and the matrix is full of zeros except for one 1 per row. Using up tons of memory mostly to store zeros would be very wasteful, so instead a sparse matrix only stores the location of the nonzero elements. You can use it mostly like a normal 2D array,19 but if you really want to convert it to a (dense) NumPy array, just call the toarray() method."
      ]
    },
    {
      "metadata": {
        "id": "vMCZYSqWF2dd",
        "colab_type": "code",
        "outputId": "7cd9cc57-d0a7-4a23-b47b-2795fc90270d",
        "colab": {
          "base_uri": "https://localhost:8080/",
          "height": 142
        }
      },
      "cell_type": "code",
      "source": [
        "housing_cat_1hot.toarray()"
      ],
      "execution_count": 14,
      "outputs": [
        {
          "output_type": "execute_result",
          "data": {
            "text/plain": [
              "array([[0., 0., 0., 1., 0.],\n",
              "       [0., 0., 0., 1., 0.],\n",
              "       [0., 0., 0., 1., 0.],\n",
              "       ...,\n",
              "       [0., 1., 0., 0., 0.],\n",
              "       [0., 1., 0., 0., 0.],\n",
              "       [0., 1., 0., 0., 0.]])"
            ]
          },
          "metadata": {
            "tags": []
          },
          "execution_count": 14
        }
      ]
    },
    {
      "metadata": {
        "id": "-u_WTb9iGXxO",
        "colab_type": "text"
      },
      "cell_type": "markdown",
      "source": [
        "## Pipelines ##\n",
        "\n",
        "You can combine all the transformations into one [Pipeline](https://scikit-learn.org/stable/modules/generated/sklearn.pipeline.Pipeline.html). The Pipeline constructor takes a list of name/estimator pairs defining a sequence of steps. All but the last estimator must be transformers (i.e., they must have a fit_transform() method). The names can be anything you like."
      ]
    },
    {
      "metadata": {
        "id": "wqI-trPJGZjz",
        "colab_type": "code",
        "outputId": "2a4ac0aa-8c63-4142-b9ed-7e186d0e0b18",
        "colab": {
          "base_uri": "https://localhost:8080/",
          "height": 206
        }
      },
      "cell_type": "code",
      "source": [
        "from sklearn.pipeline import Pipeline\n",
        "from sklearn.impute import SimpleImputer\n",
        "from sklearn.preprocessing import MinMaxScaler, StandardScaler\n",
        "\n",
        "housing_num = x.drop(\"ocean_proximity\", axis=1) # Get only the numerical values\n",
        "\n",
        "\n",
        "# Set up the pipeline\n",
        "num_pipeline = Pipeline([\n",
        "('imputer', SimpleImputer(strategy=\"median\")),\n",
        "('normalization', MinMaxScaler()),\n",
        "])\n",
        "\n",
        "housing_num_tr = num_pipeline.fit_transform(housing_num)\n",
        "\n",
        "pd.DataFrame(housing_num_tr).head()\n"
      ],
      "execution_count": 15,
      "outputs": [
        {
          "output_type": "execute_result",
          "data": {
            "text/html": [
              "<div>\n",
              "<style scoped>\n",
              "    .dataframe tbody tr th:only-of-type {\n",
              "        vertical-align: middle;\n",
              "    }\n",
              "\n",
              "    .dataframe tbody tr th {\n",
              "        vertical-align: top;\n",
              "    }\n",
              "\n",
              "    .dataframe thead th {\n",
              "        text-align: right;\n",
              "    }\n",
              "</style>\n",
              "<table border=\"1\" class=\"dataframe\">\n",
              "  <thead>\n",
              "    <tr style=\"text-align: right;\">\n",
              "      <th></th>\n",
              "      <th>0</th>\n",
              "      <th>1</th>\n",
              "      <th>2</th>\n",
              "      <th>3</th>\n",
              "      <th>4</th>\n",
              "      <th>5</th>\n",
              "      <th>6</th>\n",
              "      <th>7</th>\n",
              "    </tr>\n",
              "  </thead>\n",
              "  <tbody>\n",
              "    <tr>\n",
              "      <th>0</th>\n",
              "      <td>0.211155</td>\n",
              "      <td>0.567481</td>\n",
              "      <td>0.784314</td>\n",
              "      <td>0.022331</td>\n",
              "      <td>0.019863</td>\n",
              "      <td>0.008941</td>\n",
              "      <td>0.020556</td>\n",
              "      <td>0.539668</td>\n",
              "    </tr>\n",
              "    <tr>\n",
              "      <th>1</th>\n",
              "      <td>0.212151</td>\n",
              "      <td>0.565356</td>\n",
              "      <td>0.392157</td>\n",
              "      <td>0.180503</td>\n",
              "      <td>0.171477</td>\n",
              "      <td>0.067210</td>\n",
              "      <td>0.186976</td>\n",
              "      <td>0.538027</td>\n",
              "    </tr>\n",
              "    <tr>\n",
              "      <th>2</th>\n",
              "      <td>0.210159</td>\n",
              "      <td>0.564293</td>\n",
              "      <td>1.000000</td>\n",
              "      <td>0.037260</td>\n",
              "      <td>0.029330</td>\n",
              "      <td>0.013818</td>\n",
              "      <td>0.028943</td>\n",
              "      <td>0.466028</td>\n",
              "    </tr>\n",
              "    <tr>\n",
              "      <th>3</th>\n",
              "      <td>0.209163</td>\n",
              "      <td>0.564293</td>\n",
              "      <td>1.000000</td>\n",
              "      <td>0.032352</td>\n",
              "      <td>0.036313</td>\n",
              "      <td>0.015555</td>\n",
              "      <td>0.035849</td>\n",
              "      <td>0.354699</td>\n",
              "    </tr>\n",
              "    <tr>\n",
              "      <th>4</th>\n",
              "      <td>0.209163</td>\n",
              "      <td>0.564293</td>\n",
              "      <td>1.000000</td>\n",
              "      <td>0.041330</td>\n",
              "      <td>0.043296</td>\n",
              "      <td>0.015752</td>\n",
              "      <td>0.042427</td>\n",
              "      <td>0.230776</td>\n",
              "    </tr>\n",
              "  </tbody>\n",
              "</table>\n",
              "</div>"
            ],
            "text/plain": [
              "          0         1         2         3         4         5         6  \\\n",
              "0  0.211155  0.567481  0.784314  0.022331  0.019863  0.008941  0.020556   \n",
              "1  0.212151  0.565356  0.392157  0.180503  0.171477  0.067210  0.186976   \n",
              "2  0.210159  0.564293  1.000000  0.037260  0.029330  0.013818  0.028943   \n",
              "3  0.209163  0.564293  1.000000  0.032352  0.036313  0.015555  0.035849   \n",
              "4  0.209163  0.564293  1.000000  0.041330  0.043296  0.015752  0.042427   \n",
              "\n",
              "          7  \n",
              "0  0.539668  \n",
              "1  0.538027  \n",
              "2  0.466028  \n",
              "3  0.354699  \n",
              "4  0.230776  "
            ]
          },
          "metadata": {
            "tags": []
          },
          "execution_count": 15
        }
      ]
    },
    {
      "metadata": {
        "id": "qwKo-AwAGcx2",
        "colab_type": "text"
      },
      "cell_type": "markdown",
      "source": [
        "Let's join the numerical values with the categorical. We do that with the [ColumnTransformer](https://scikit-learn.org/stable/modules/generated/sklearn.compose.ColumnTransformer.html)"
      ]
    },
    {
      "metadata": {
        "id": "npbtu8IDGgl4",
        "colab_type": "code",
        "outputId": "dfff6529-2637-42c9-c705-1e7cb65bd0a9",
        "colab": {
          "base_uri": "https://localhost:8080/",
          "height": 206
        }
      },
      "cell_type": "code",
      "source": [
        "from sklearn.preprocessing import LabelBinarizer\n",
        "from sklearn.pipeline import FeatureUnion\n",
        "from sklearn.compose import ColumnTransformer\n",
        "\n",
        "# Specify the transformer and the columns to affect. You also use pipelines as transformer.\n",
        "full_pipeline = ColumnTransformer([\n",
        "    (\"num_pipeline\", num_pipeline, x.columns[:-1]),\n",
        "    ('label_binarizer', OneHotEncoder(),[x.columns[-1]])\n",
        "])\n",
        "housing_prepared = full_pipeline.fit_transform(x)\n",
        "pd.DataFrame(housing_prepared).head()"
      ],
      "execution_count": 16,
      "outputs": [
        {
          "output_type": "execute_result",
          "data": {
            "text/html": [
              "<div>\n",
              "<style scoped>\n",
              "    .dataframe tbody tr th:only-of-type {\n",
              "        vertical-align: middle;\n",
              "    }\n",
              "\n",
              "    .dataframe tbody tr th {\n",
              "        vertical-align: top;\n",
              "    }\n",
              "\n",
              "    .dataframe thead th {\n",
              "        text-align: right;\n",
              "    }\n",
              "</style>\n",
              "<table border=\"1\" class=\"dataframe\">\n",
              "  <thead>\n",
              "    <tr style=\"text-align: right;\">\n",
              "      <th></th>\n",
              "      <th>0</th>\n",
              "      <th>1</th>\n",
              "      <th>2</th>\n",
              "      <th>3</th>\n",
              "      <th>4</th>\n",
              "      <th>5</th>\n",
              "      <th>6</th>\n",
              "      <th>7</th>\n",
              "      <th>8</th>\n",
              "      <th>9</th>\n",
              "      <th>10</th>\n",
              "      <th>11</th>\n",
              "      <th>12</th>\n",
              "    </tr>\n",
              "  </thead>\n",
              "  <tbody>\n",
              "    <tr>\n",
              "      <th>0</th>\n",
              "      <td>0.211155</td>\n",
              "      <td>0.567481</td>\n",
              "      <td>0.784314</td>\n",
              "      <td>0.022331</td>\n",
              "      <td>0.019863</td>\n",
              "      <td>0.008941</td>\n",
              "      <td>0.020556</td>\n",
              "      <td>0.539668</td>\n",
              "      <td>0.0</td>\n",
              "      <td>0.0</td>\n",
              "      <td>0.0</td>\n",
              "      <td>1.0</td>\n",
              "      <td>0.0</td>\n",
              "    </tr>\n",
              "    <tr>\n",
              "      <th>1</th>\n",
              "      <td>0.212151</td>\n",
              "      <td>0.565356</td>\n",
              "      <td>0.392157</td>\n",
              "      <td>0.180503</td>\n",
              "      <td>0.171477</td>\n",
              "      <td>0.067210</td>\n",
              "      <td>0.186976</td>\n",
              "      <td>0.538027</td>\n",
              "      <td>0.0</td>\n",
              "      <td>0.0</td>\n",
              "      <td>0.0</td>\n",
              "      <td>1.0</td>\n",
              "      <td>0.0</td>\n",
              "    </tr>\n",
              "    <tr>\n",
              "      <th>2</th>\n",
              "      <td>0.210159</td>\n",
              "      <td>0.564293</td>\n",
              "      <td>1.000000</td>\n",
              "      <td>0.037260</td>\n",
              "      <td>0.029330</td>\n",
              "      <td>0.013818</td>\n",
              "      <td>0.028943</td>\n",
              "      <td>0.466028</td>\n",
              "      <td>0.0</td>\n",
              "      <td>0.0</td>\n",
              "      <td>0.0</td>\n",
              "      <td>1.0</td>\n",
              "      <td>0.0</td>\n",
              "    </tr>\n",
              "    <tr>\n",
              "      <th>3</th>\n",
              "      <td>0.209163</td>\n",
              "      <td>0.564293</td>\n",
              "      <td>1.000000</td>\n",
              "      <td>0.032352</td>\n",
              "      <td>0.036313</td>\n",
              "      <td>0.015555</td>\n",
              "      <td>0.035849</td>\n",
              "      <td>0.354699</td>\n",
              "      <td>0.0</td>\n",
              "      <td>0.0</td>\n",
              "      <td>0.0</td>\n",
              "      <td>1.0</td>\n",
              "      <td>0.0</td>\n",
              "    </tr>\n",
              "    <tr>\n",
              "      <th>4</th>\n",
              "      <td>0.209163</td>\n",
              "      <td>0.564293</td>\n",
              "      <td>1.000000</td>\n",
              "      <td>0.041330</td>\n",
              "      <td>0.043296</td>\n",
              "      <td>0.015752</td>\n",
              "      <td>0.042427</td>\n",
              "      <td>0.230776</td>\n",
              "      <td>0.0</td>\n",
              "      <td>0.0</td>\n",
              "      <td>0.0</td>\n",
              "      <td>1.0</td>\n",
              "      <td>0.0</td>\n",
              "    </tr>\n",
              "  </tbody>\n",
              "</table>\n",
              "</div>"
            ],
            "text/plain": [
              "         0         1         2         3         4         5         6   \\\n",
              "0  0.211155  0.567481  0.784314  0.022331  0.019863  0.008941  0.020556   \n",
              "1  0.212151  0.565356  0.392157  0.180503  0.171477  0.067210  0.186976   \n",
              "2  0.210159  0.564293  1.000000  0.037260  0.029330  0.013818  0.028943   \n",
              "3  0.209163  0.564293  1.000000  0.032352  0.036313  0.015555  0.035849   \n",
              "4  0.209163  0.564293  1.000000  0.041330  0.043296  0.015752  0.042427   \n",
              "\n",
              "         7    8    9    10   11   12  \n",
              "0  0.539668  0.0  0.0  0.0  1.0  0.0  \n",
              "1  0.538027  0.0  0.0  0.0  1.0  0.0  \n",
              "2  0.466028  0.0  0.0  0.0  1.0  0.0  \n",
              "3  0.354699  0.0  0.0  0.0  1.0  0.0  \n",
              "4  0.230776  0.0  0.0  0.0  1.0  0.0  "
            ]
          },
          "metadata": {
            "tags": []
          },
          "execution_count": 16
        }
      ]
    },
    {
      "metadata": {
        "id": "TdLAkdzSGf7y",
        "colab_type": "text"
      },
      "cell_type": "markdown",
      "source": [
        "## Select and Train a Model  ##\n",
        "\n",
        "Following all these steps made the process of training a model and evaluating it much simpler. In this sections will train a regression using the sklearn method of LinearRegression."
      ]
    },
    {
      "metadata": {
        "id": "v-W0Mj8bG96t",
        "colab_type": "text"
      },
      "cell_type": "markdown",
      "source": [
        "### Linear Regression (sklearn) ###\n",
        "\n",
        "We train a linear regression model using the scikit learn library."
      ]
    },
    {
      "metadata": {
        "id": "UQg9agyYGnH8",
        "colab_type": "code",
        "outputId": "478f74b6-15d8-4799-f29a-1805d349e8d4",
        "colab": {
          "base_uri": "https://localhost:8080/",
          "height": 53
        }
      },
      "cell_type": "code",
      "source": [
        "from sklearn.linear_model import LinearRegression\n",
        "\n",
        "\n",
        "lin_reg = LinearRegression()\n",
        "lin_reg.fit(housing_prepared, y)"
      ],
      "execution_count": 17,
      "outputs": [
        {
          "output_type": "execute_result",
          "data": {
            "text/plain": [
              "LinearRegression(copy_X=True, fit_intercept=True, n_jobs=None,\n",
              "         normalize=False)"
            ]
          },
          "metadata": {
            "tags": []
          },
          "execution_count": 17
        }
      ]
    },
    {
      "metadata": {
        "id": "sBODOc85G6NE",
        "colab_type": "code",
        "outputId": "2a1cb92f-6af9-4e63-bfc6-01265b3f3af9",
        "colab": {
          "base_uri": "https://localhost:8080/",
          "height": 53
        }
      },
      "cell_type": "code",
      "source": [
        "# Let's try out on few instances from the training set\n",
        "some_data = x.iloc[:5] # Choosing some data\n",
        "some_labels = y.iloc[:5] # Don't forget to also get the labels\n",
        "some_data_prepared = full_pipeline.transform(some_data) # Transform thoses data with the pipeline\n",
        "print(\"Predictions:\\t\", lin_reg.predict(some_data_prepared))\n",
        "print(\"Labels:\\t\\t\", list(some_labels))"
      ],
      "execution_count": 18,
      "outputs": [
        {
          "output_type": "stream",
          "text": [
            "Predictions:\t [407808. 423424. 378112. 320512. 255232.]\n",
            "Labels:\t\t [452600.0, 358500.0, 352100.0, 341300.0, 342200.0]\n"
          ],
          "name": "stdout"
        }
      ]
    },
    {
      "metadata": {
        "id": "UIEiiIv2FFCo",
        "colab_type": "text"
      },
      "cell_type": "markdown",
      "source": [
        "## Evaluation ##"
      ]
    },
    {
      "metadata": {
        "id": "l86SrB0IHDp1",
        "colab_type": "text"
      },
      "cell_type": "markdown",
      "source": [
        "Predictions doesn't seem very accurate. Let's measure this regression model’s Root Mean Square Error (RMSE)"
      ]
    },
    {
      "metadata": {
        "id": "_iZofMnMHGlc",
        "colab_type": "code",
        "outputId": "2d994294-2de6-422f-8f15-b594a3a7ed36",
        "colab": {
          "base_uri": "https://localhost:8080/",
          "height": 35
        }
      },
      "cell_type": "code",
      "source": [
        "from sklearn.metrics import mean_squared_error\n",
        "\n",
        "housing_predictions = lin_reg.predict(housing_prepared) # Taking the predictions on the training set\n",
        "lin_mse = mean_squared_error(y, housing_predictions) # Computing mean squared error\n",
        "lin_rmse = np.sqrt(lin_mse) # Taking the root\n",
        "lin_rmse"
      ],
      "execution_count": 19,
      "outputs": [
        {
          "output_type": "execute_result",
          "data": {
            "text/plain": [
              "68711.65348248677"
            ]
          },
          "metadata": {
            "tags": []
          },
          "execution_count": 19
        }
      ]
    }
  ]
}